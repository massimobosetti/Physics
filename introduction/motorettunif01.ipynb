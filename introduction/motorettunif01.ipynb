from vpython import *

f1=series(color=color.blue)
f2=series(color=color.red)

xA=0
xB=15
vA=5
vB=3.5
t=0
dt=0.01

while xA<=xB:
  #these next two lines are incomplete
  xA=xA+vA*dt
  xB=xB+vB*dt
  t=t+dt
  f1.plot(t,xA)
  f2.plot(t,xB)
  
print("la distanza a cui si incontrano è", xA, "m")
print(t)
