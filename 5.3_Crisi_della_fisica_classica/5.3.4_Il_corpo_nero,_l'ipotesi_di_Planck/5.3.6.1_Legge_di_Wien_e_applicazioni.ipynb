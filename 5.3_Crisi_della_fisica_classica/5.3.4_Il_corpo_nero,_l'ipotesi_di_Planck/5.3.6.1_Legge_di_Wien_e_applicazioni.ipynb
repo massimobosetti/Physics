{
 "cells": [
  {
   "cell_type": "code",
   "execution_count": 47,
   "metadata": {},
   "outputs": [],
   "source": [
    "import numpy as np\n",
    "import matplotlib\n",
    "import matplotlib.pyplot as plt"
   ]
  },
  {
   "cell_type": "code",
   "execution_count": 48,
   "metadata": {},
   "outputs": [],
   "source": [
    "k = 1.380649e-23 #costante di boltzmann\n",
    "h = 6.62607015e-34 #costante di plank\n",
    "b = 2.898*10**-3 #costante di Wien\n",
    "c = 299792458 #velocità luce nel vuoto"
   ]
  },
  {
   "cell_type": "markdown",
   "metadata": {},
   "source": [
    "# Introduzione <a id=\"intro\"></a>\n",
    "\n",
    "Per altri esercizi e problemi andare al link [problemi ed esercizi su legge di Wien e Stefan-Boltzmann](https://github.com/massimobosetti/Physics-Problem/blob/master/5_anno/5.3%20Crisi%20della%20fisica%20classica/5.3.6.1%20esercizi%20sulle%20leggi%20di%20Wien%20e%20Stefan%20(Irraggiamento).ipynb)\n",
    "+++\n",
    "\n",
    "## La legge di Wien\n",
    "\n",
    "La legge dello spostamento di Wien è:\n",
    "$$\n",
    "\\lambda_{max}T=b; \\quad b\\,\\text{è una costante misurata empiricamente, detta costante di Wien}\\\\\n",
    "b=2,898\\cdot 10^{-3}\\, m\\cdot K\n",
    "$$\n",
    "\n",
    "\n",
    "## Legge di stefan-Boltzmann\n",
    "\n",
    "La potenza per unità di area totale irraggiata da un corpo  che si trova ad una data temperatura è:\n",
    "$$\n",
    "I=\\sigma\\cdot T^4; \\quad \\sigma=5.67\\cdot10^{-8}\\, \\frac{W}{m^2K^4}\n",
    "$$\n",
    "\n",
    "$I$ è anche detta **radianza integrale** e $\\sigma$ è chiamata *costante di Stefan-Boltzmann*."
   ]
  },
  {
   "cell_type": "markdown",
   "metadata": {},
   "source": [
    "## ex 1 \n",
    "Determinare la frequenza di emissione del corpo umano che si trova alla temperatura di $36,5\\,°C$.\n",
    "**soluzione**\n",
    "$$\n",
    "\\lambda_{max}T=b; \\quad b \\Rightarrow \\lambda_{max}=\\frac{b}{T}\n",
    "$$\n",
    "**Attenzione che la temperatura va inserita in kelvin! Quindi $T(K)=T(°C)+273,15$**\n",
    "Per ottenbere la frequenza ora basta ricordare che\n",
    "$$\n",
    "c=\\lambda f \\Rightarrow f = \\frac{c}{\\lambda}=\\frac{cT}{b}\n",
    "$$\n",
    "Dove $c$ è la velocità della luce nel vuoto."
   ]
  },
  {
   "cell_type": "code",
   "execution_count": 49,
   "metadata": {},
   "outputs": [
    {
     "name": "stdout",
     "output_type": "stream",
     "text": [
      "la lunghezza d'onda del picco di emissione è 9.359E-06 m\n",
      "la frequenza del picco di emissione è 3.203E+13 Hz\n"
     ]
    }
   ],
   "source": [
    "# dati e svolgimeno ex.1\n",
    "\n",
    "T_C = 36.5\n",
    "T_K = T_C+273.15\n",
    "lambda_max = b/T_K\n",
    "f_max = c/lambda_max\n",
    "\n",
    "print(\"la lunghezza d'onda del picco di emissione è\", f\"{lambda_max:.3E}\",\"m\" )\n",
    "print(\"la frequenza del picco di emissione è\", f\"{f_max:.3E}\",\"Hz\" )"
   ]
  },
  {
   "cell_type": "code",
   "execution_count": null,
   "metadata": {},
   "outputs": [],
   "source": [
    "\n"
   ]
  },
  {
   "cell_type": "code",
   "execution_count": null,
   "metadata": {},
   "outputs": [],
   "source": []
  }
 ],
 "metadata": {
  "kernelspec": {
   "display_name": "Python 3",
   "language": "python",
   "name": "python3"
  },
  "language_info": {
   "codemirror_mode": {
    "name": "ipython",
    "version": 3
   },
   "file_extension": ".py",
   "mimetype": "text/x-python",
   "name": "python",
   "nbconvert_exporter": "python",
   "pygments_lexer": "ipython3",
   "version": "3.7.6"
  },
  "latex_envs": {
   "LaTeX_envs_menu_present": true,
   "autoclose": false,
   "autocomplete": true,
   "bibliofile": "biblio.bib",
   "cite_by": "apalike",
   "current_citInitial": 1,
   "eqLabelWithNumbers": true,
   "eqNumInitial": 1,
   "hotkeys": {
    "equation": "Ctrl-E",
    "itemize": "Ctrl-I"
   },
   "labels_anchors": false,
   "latex_user_defs": false,
   "report_style_numbering": false,
   "user_envs_cfg": false
  },
  "toc": {
   "base_numbering": 1,
   "nav_menu": {},
   "number_sections": true,
   "sideBar": true,
   "skip_h1_title": false,
   "title_cell": "Table of Contents",
   "title_sidebar": "Contents",
   "toc_cell": false,
   "toc_position": {},
   "toc_section_display": true,
   "toc_window_display": false
  }
 },
 "nbformat": 4,
 "nbformat_minor": 4
}
