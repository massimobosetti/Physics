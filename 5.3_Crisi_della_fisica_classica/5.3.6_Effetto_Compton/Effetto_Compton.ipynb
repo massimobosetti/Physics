{
 "cells": [
  {
   "cell_type": "code",
   "execution_count": null,
   "metadata": {},
   "outputs": [],
   "source": [
    "from IPython.display import IFrame\n",
    "from IPython.display import YouTubeVideo"
   ]
  },
  {
   "cell_type": "markdown",
   "metadata": {},
   "source": [
    "# L'effetto Compton\n",
    "<a title=\"Wolfmankurd / CC BY-SA (http://creativecommons.org/licenses/by-sa/3.0/)\" href=\"https://commons.wikimedia.org/wiki/File:Photoelectric_effect.svg\"><img width=\"256\" alt=\"Photoelectric effect\" src=\"https://upload.wikimedia.org/wikipedia/commons/thumb/f/f5/Photoelectric_effect.svg/800px-Photoelectric_effect.svg.png\"></a>\n"
   ]
  },
  {
   "cell_type": "markdown",
   "metadata": {},
   "source": [
    "## Introduzione\n",
    "\n",
    "L'potesi di Einstein per spiegare l'effetto fotoelettrico attribuisce alla radiazione elettromagnetica una natura corpuscolare, che ha una chiara conferma sperimentale nel 1923 con gli esperimenti di Compton.\n",
    "![Effetto Compton](http://hyperphysics.phy-astr.gsu.edu/hbase/quantum/imgqua/comptonr.gif)\n",
    "\n",
    "\n",
    "Tali esperienze consistono nell'inviare un fascio di raggi X, onde elettromagnetiche di frequenza $\\nu$ dell'ordine di $10^{16}-10^{20}$ hertz, lunghezza d'onda dell'ordine di $10^{-2}-10^{2}$ Angstroms $\\mathring{A}$ $\\left(1 \\mathring{A}=10^{-10} m\\right)$ a cui corrispondono fotoni di energia $h \\nu$ dell'ordine di $10^{2}-10^{6}\\, eV,$ su un cristallo (grafite) e nel misurare l'intensitá della radiazione diffusa in funzione della sua lunghezza d'onda.\n",
    "\n",
    "Compton osservó che, sebbene la radiazione incidente fosse essenzialmente monocromatica di lunghezza d'onda $\\lambda$, nella radiazione diffusa era presente una muova lunghezza d'onda $\\lambda^{\\prime}$ che differiva da $\\lambda$ di una quantitá funzione dell'angolo di diffusione. Tale risultato é in contraddizione con le previsioni della fisica classica. In fatti classicamente ci si aspetta che gli elettroni liberi del cristallo, sotto l'azione del campo elettrico oscillante della radiazione incidente, compiano oscillazioni della stessa frequenza e quindi emettano radiazione diffusa in tutte le direzioni, ma della stessa frequenza dell'onda incidente. Compton spiegó il risultato sperimentale assumendo che la mdiazione incidente era costituita da un fascio di fotoni, considerati come particelle, di energia $E=h \\nu$ ed impulso $p$\n",
    "$$\n",
    "p=E / c=h / \\lambda\n",
    "$$\n",
    "L'urto elastico dei fotoni con gli elettroni deve soddisfare le leggi della conservazione dell'energia e dell'impulso.\n",
    "\n",
    "Possiamo assumere gli elettroni inizialmente a riposo in quanto la loro energia cinetica, dovuta alla agitazione termica, é di vari ordini di grandezza inferiore all'energia di riposo ( $E_{0}=$ $\\left.m_{0} c^{2}=0.5110\\; \\mathrm{MeV}\\right) .$ Nel piano di collisione, $x y,$ con l'elettrone inizialmente a riposo nell'origine ed il fotone incidente con impulso\n",
    "$$\\vec{p}_{i}=p_{i} \\hat{i},$$"
   ]
  },
  {
   "cell_type": "markdown",
   "metadata": {},
   "source": [
    "## Esperimento\n",
    "\n",
    "Lo scattering di fotoni da particelle cariche si chiama scattering Compton dopo che [Arthur Compton](https://en.wikipedia.org/wiki/Arthur_Compton) che fu il primo a misurare la dispersione fotone-elettrone nel 1922. Quando il fotone in arrivo dà parte della sua energia all'elettrone, allora il fotone diffuso ha energia inferiore e secondo la relazione di Planck ha una frequenza più bassa e una lunghezza d'onda più lunga. La variazione della lunghezza d'onda in tale scattering dipende solo dall'angolo di scattering per una determinata particella target. *(A. H. Compton, Phys. Rev. 21, 483; 22, 409 (1923))*\n",
    "\n",
    "<img src=\"http://hyperphysics.phy-astr.gsu.edu/hbase/quantum/imgqua/compdat.gif\" width=512  />\n",
    "\n"
   ]
  },
  {
   "cell_type": "markdown",
   "metadata": {},
   "source": [
    "### I risultati dell'esperimento di Compton\n",
    "\n",
    "L'esperimento originale di Compton ha fatto uso di raggi X di molibdeno K-alfa, che hanno una lunghezza d'onda di 0,0709 nm. \n",
    "Questi furono dispersi da un blocco di carbonio e osservati ad angoli diversi con uno spettrometro di Bragg.\n",
    "Lo spettrometro è costituito da una struttura rotante con un cristallo di calcite per diffrarre i raggi X e una camera di ionizzazione per il rilevamento dei raggi X. Poiché la spaziatura dei piani cristallini nella calcite è nota, l'angolo di diffrazione fornisce una misura accurata della lunghezza d'onda.\n",
    "\n",
    "\n",
    "L'esame della formula di scattering Compton mostra che la lunghezza d'onda della a radiazione diffusa dipende dall'angolo di scattering e anche dalla massa del bersaglio diffusore.\n",
    "\n",
    "#### i due picchi\n",
    "\n",
    "Per lo scattering da elettroni stazionari, la formula fornisce una lunghezza d'onda di 0,0733 nm per lo scattering a 90 gradi. Ciò è coerente con il picco di destra nella figura sopra.\n",
    "\n",
    "Il picco che si trova vicino alla lunghezza d'onda dei raggi X originale è considerato come una **diffusione di elettroni interni** negli atomi di carbonio che sono più strettamente legati al nucleo del carbonio. Questo fa sì che l'intero atomo rinculi per effetto del fotone X e la maggiore massa di diffusione effettiva riduca proporzionalmente lo spostamento della lunghezza d'onda dei fotoni che rimbalzano. \n",
    "\n",
    "Se mettessimo l'intera massa nucleare del carbonio nell'equazione di scattering avremmo uno spostamento della lunghezza d'onda quasi 22.000 volte più piccolo di quello di un elettrone non legato, quindi non si vede il cambiuamento di lunghezza d'onda dei fotoni che incidono sul nucleo. "
   ]
  },
  {
   "cell_type": "markdown",
   "metadata": {},
   "source": [
    "## Dimostrazione\n",
    "\n",
    "\n",
    "L’urto elastico dei fotoni con gli elettroni deve soddisfare le leggi della conservazione dell’energia e\n",
    "dell’impulso. Possiamo assumere gli elettroni inizialmente a riposo in quanto la loro energia cinetica, dovuta alla agitazione termica, é di vari ordini di grandezza inferiore all’energia di riposo $(E_0 = m_0 c^2 = 0.5110\\; M eV )$.\n",
    "Nel piano di collisione, $xy$, con l’elettrone inizialmente a riposo nell’origine ed\n",
    "il fotone incidente con impulso $\\vec p _i = \\vec p_i \\hat i$ , le conservazioni dell’energia e dell’impulso, nelle direzioni x e y, si scrivono\n",
    "\n",
    "### Conservazione dell'energia\n",
    "\n",
    "\\begin{equation}\\label{eq:consen}\n",
    "E_i + E_0 = E_f + E_0 + K\n",
    "\\end{equation}\n",
    "\n",
    "### Conservazione della quantità di moto\n",
    "\n",
    "\\begin{equation}\\label{eq:consqqdmx}\n",
    "p_i = p_f \\cos \\theta + p \\cos \\varphi\n",
    "\\end{equation}\n",
    "\n",
    "\\begin{equation}\\label{eq:consqqdmy}\n",
    "0 = p_f \\sin \\theta − p \\sin \\varphi\n",
    "\\end{equation}\n"
   ]
  },
  {
   "cell_type": "markdown",
   "metadata": {},
   "source": [
    "### Analizziamo la situazione prima dell' urto.\n",
    "II fotone incidente si muove lungo I asse $x$, la sua energia è:\n",
    "$$E=h f=\\frac{h c}{\\lambda}$$\n",
    "\n",
    "e la sua quantità di moto è:\n",
    "$$p_{\\mathrm{fx}}=\\frac{h}{\\lambda} \\quad\\text{componente lungo l'asse } x$$ \n",
    "\n",
    "$$p_{\\mathrm{fy}}=0  \\quad\\text{componente lungo l'asse } y$$\n",
    "\n",
    "L'ettrone è fermo nell' origine del sistema di riferimento, quindi la sua quantitì di moto è nulla e la sua energia è la sola energia di massa a riposo:\n",
    "\n",
    "$$E_{0}=m_{\\mathrm{e}} c^{2}$$"
   ]
  },
  {
   "cell_type": "markdown",
   "metadata": {},
   "source": [
    "### Analizziamo la situazione dopo l'unto.\n",
    "\n",
    "Il fotone è diffuso a un angolo $\\theta$ rispetto alla sua direzione iniziale, quindi:\n",
    "\n",
    "$$E=h^{\\prime} f=\\frac{h c}{\\lambda^{\\prime}}; \\qquad \\text{energia}$$\n",
    "\n",
    "\n",
    "$$p_{\\mathrm{fx}}^{\\prime}=\\frac{h}{\\chi} \\cos \\theta; \\qquad \\text{  componente } x \\text{della quantità di moto}$$\n",
    "\n",
    "$$p_{f y}^{\\prime}=\\frac{h}{\\lambda^{\\prime}} \\operatorname{sin} \\theta; \\qquad \\text{  componente } y \\text{ della quantità di moto}\n",
    "$$\n",
    "\n",
    "L'elettrone è diffuso a un angolo $\\varphi$, quindi:\n",
    "\n",
    "$$E_{c}=m_{e} c^{2}+K \\quad \\text{  energia }$$\n",
    "\n",
    "$$(K=\\text { energia cinctica relativisica })$$\n",
    "\n",
    "$$p_{\\mathrm{ex}}=p_{\\mathrm{e}} \\cos \\varphi=m_{\\mathrm{e}} v \\cos \\varphi; \\qquad \\text{  componente } x \\text{della quantità di moto}\n",
    "$$\n",
    "\n",
    "$$p_{e y}=-p_{e} \\operatorname{sen} \\varphi=-m_{e} v \\operatorname{sin} \\varphi; \\qquad \\text{ componente  } y \\text{ della quantità di moto}\n",
    "$$"
   ]
  },
  {
   "cell_type": "markdown",
   "metadata": {},
   "source": [
    "Applichiamo ora le leggi di conservazione.\n",
    "Per la legge di conservazione dell'energia abbiamo:\n",
    "\n",
    "\\begin{equation}\\label{eq:cons1}\n",
    "E+m_{e} c^{2}=E^{\\prime}+E_{e}\n",
    "\\end{equation}\n",
    "\n",
    "Per la legge di conservazione della quantità di moto abbiamo:\n",
    "\\begin{equation}\\label{eq:cons2}\n",
    "\\begin{cases}\n",
    "\\frac{h}{\\lambda} & =\\frac{h}{\\lambda^{\\prime}} \\cos \\theta+p_{e} \\cos \\varphi  \\\\ \n",
    "0 & =\\frac{h}{\\chi^{\\prime}} \\operatorname{sen} \\theta-p_{e} \\operatorname{sen} \\varphi\n",
    "\\end{cases}.\n",
    "\\end{equation}\n"
   ]
  },
  {
   "cell_type": "markdown",
   "metadata": {},
   "source": [
    "Se nell'equazione \\ref{eq:cons1} sostituiamo a $E_{e}$ la relazione fra quantità di moto e energia relativistica:\n",
    "\n",
    "$$E_{e}=\\sqrt{c^{2} p_{e}^{2}+m_{e}^{2} c^{4}}$$\n",
    "\n",
    "otteniamo:\n",
    "$$E+m_{e} c^{2}-E^{\\prime}=\\sqrt{c^{2} p_{e}^{2}+m_{c}^{2} c^{4}}$$\n",
    "\n",
    "da cui, elevando al qualrato entrambi i membri, ricaviamo $p_{c}^{2}$ :\n",
    "\n",
    "$$p_{e}^{2}=\\frac{\\left(E+m c^{2}-E\\right)^{2}-m_{c}^{2} c^{4}}{c^{2}}$$"
   ]
  },
  {
   "cell_type": "markdown",
   "metadata": {},
   "source": [
    "da cui, elevando al qualrato entrambi i membri, ricaviamo $p_{c}^{2}$ :\n",
    "\n",
    "$$p_{e}^{2}=\\frac{\\left(E+m c^{2}-E\\right)^{2}-m_{c}^{2} c^{4}}{c^{2}}$$\n",
    "\n",
    "ricordando che $p=\\frac{E}{c}=\\frac{h}{\\lambda},\\qquad \\text{ ricaviamo } p_{e}\\cos\\varphi$ ed eleviamo al quadrato:\n",
    "\n",
    "$$p_{e}^{2} \\cos ^{2} \\varphi=\\frac{1}{c^{2}}\\left(E-E^{\\prime} \\cos \\theta\\right)^{2}$$\n",
    "\n",
    "Sviluppando i calcoli otteniamo:\n",
    "\n",
    "$$p_{e}^{2} \\cos ^{2} \\varphi=\\frac{1}{c^{2}}\\left(E^{2}+E^{\\prime 2} \\cos ^{2} \\theta-2 E E^{\\prime} \\cos \\theta\\right)$$\n"
   ]
  },
  {
   "cell_type": "markdown",
   "metadata": {},
   "source": [
    "Analogamente, dalla seconda equazione \\ref{eq:cons2} ricaviamo $p_{e}\\operatorname{sen}\\varphi$\n",
    "ed eleviamo al quadrato:\n",
    "    \n",
    "$$p_{\\mathrm{e}}^{2} \\operatorname{sen}^{2} \\varphi=\\frac{E^{\\prime 2}}{c^{2}} \\operatorname{sen}^{2} \\theta$$\n",
    "\n",
    "Sommando le equazioni (17) e (18) abbiamo:\n",
    "\n",
    "$$p_{c}^{2}\\left(\\cos ^{2} \\varphi+\\operatorname{sen}^{2} \\varphi\\right)=\\frac{1}{c^{2}}\\left(E^{2}+E^{2} \\cos ^{2} \\theta-2 E E^{\\prime} \\cos \\theta+E^{\\prime 2} \\operatorname{sen}^{2} \\theta\\right)$$\n",
    "\n",
    "da cui:\n",
    "$$p_{\\mathrm{e}}^{2}=\\frac{1}{c^{2}}\\left(E^{2}+E^{\\prime 2}-2 E E^{\\prime} \\cos \\theta\\right)$$"
   ]
  },
  {
   "cell_type": "markdown",
   "metadata": {},
   "source": [
    "Confrontiamo ora le cquazioni (16) e (22): poiché i primi membri sono ug uali, ug uagliamo i secondi membri:\n",
    "\n",
    "$$\\left(E+m_{e} c^{2}-E^{\\prime}\\right)^{2}-m_{e}^{2} c^{4}=E^{2}+E^{2}-2 E E^{\\prime} \\cos \\theta$$\n",
    "Svolgendo i calcoli otteniamo:\n",
    "\n",
    "$$2 m_{k}^{2}\\left(E-E^{\\prime}\\right)=2 E E^{\\prime}(1-\\cos \\theta)$$"
   ]
  },
  {
   "cell_type": "markdown",
   "metadata": {},
   "source": [
    "\n",
    "\n",
    "Dividendo per $2 m_{c}^{2} E E^{\\prime}$ entrambi i membri dell'equazione precedente possiamo scrivere:\n",
    "\n",
    "$$\\frac{E-E^{\\prime}}{E E^{\\prime}}=\\frac{1}{m_{e}^{2}}(1-\\cos \\theta)$$\n",
    "\n",
    "$$\\frac{1}{E^{\\prime}}-\\frac{1}{E}=\\frac{1}{m_{i} c^{2}}(1-\\cos \\theta) \\rightarrow \\frac{\\lambda}{h c}-\\frac{\\lambda}{h c}=\\frac{1}{m \\cdot c^{2}}(1-\\cos \\theta)$$\n",
    "\n"
   ]
  },
  {
   "cell_type": "markdown",
   "metadata": {},
   "source": [
    "#### L'equazione di Compton\n",
    "\n",
    "da cui si ottiene la fommula dello spostamento Compton:\n",
    "\\begin{equation}\\label{eq:formComp}\n",
    "    \\lambda^{\\prime}-\\lambda=\\frac{h}{m_{e}c}(1-\\cos \\theta)\n",
    "\\end{equation}\n",
    "\n",
    "##### Lunghezza d'onda Compton\n",
    "\n",
    "Il valore \n",
    "\n",
    "\\begin{equation}\\label{eq:ldC}\n",
    "\\lambda_C=\\frac{h}{m_{e}c} = 2,43\\cdot10^{-12}\\; m\\;= 0,0243\\;\\mathring{A}\n",
    "\\end{equation}\n",
    "\n",
    "è chiamato **lunghezza d'onda Compton dell'elettrone**.    \n"
   ]
  },
  {
   "cell_type": "markdown",
   "metadata": {},
   "source": [
    "## Osservazioni\n",
    "Questi esperimenti mostrano che la radiazione é costituita da fotoni, che si comportano come particelle, ma nello stesso tempo l’esistenza dei fenomeni di interferenza richiede anche una descrizione ondulatoria della radiazione.\n",
    "\n",
    "### Osservazione 1 - lunghezze d'onda diffuse\n",
    "\n",
    "Lo spostamento della lunghezza d’onda $\\Delta\\lambda$ dipende dall’angolo $\\theta$ di osservazione, ma non dalla lunghezza iniziale $\\lambda$ del fascio incidente. Si noti che $\\Delta\\lambda/\\lambda \\approx 10^{−12}$ è una quantità molto\n",
    "piccola per radiazione nel visibile o nel dominio delle onde radio $(\\lambda > 10^4 \\mathring{A})$\n"
   ]
  },
  {
   "cell_type": "markdown",
   "metadata": {},
   "source": [
    "### Osservazione 2 - Il secondo picco: urto sul nucleo\n",
    "\n",
    "Sperimentalmente si osserva, nelle direzioni $\\theta \\ne  0$, un picco corrispondente a $\\lambda' =\\lambda$, che è dovuto alla diffusione della radiazione incidente con elettroni che rimangono legati all’atomo. In tal caso la diffusione va descritta come l’urto di un fotone con un oggetto a riposo di massa $M$ , data dalla massa atomica, con $M >> m_0$ (per il carbonio $M \\approx 22.000 m_0$ ).\n",
    "Per questo\n",
    "tipo d’urto la lunghezza d’onda incidente é praticamente la stessa in qualunque direzione e si ritrova il risultato previsto dalla fisica classica."
   ]
  },
  {
   "cell_type": "markdown",
   "metadata": {},
   "source": [
    "### Osservazione 3: l'elettrone libero non può assorbire il fotone\n",
    "\n",
    "Se si analizza l’effetto fotoelettrico come urto anelastico, assorbimento del fotone da parte\n",
    "dell’elettrone, quindi senza fotone dopo la collisione si vede che l’eqs.(\\ref{eq:consen})-(\\ref{eq:consqqdmy}) non possono essere simultaneamente soddisfatte se $p_f = 0$. "
   ]
  },
  {
   "cell_type": "markdown",
   "metadata": {},
   "source": [
    "Infatti se $p_f = 0$ le eqs.(\\ref{eq:consqqdmx})-(\\ref{eq:consqqdmy}) si scrivono\n",
    "\n",
    "$$\n",
    "\\left\\{\\begin{matrix}\n",
    "p_i = p \\cos \\varphi\\\\\n",
    "0 = p \\sin \\varphi\n",
    "\\end{matrix}\\right.\n",
    "\\Rightarrow\n",
    "\\left\\{\\begin{matrix}\n",
    "\\varphi = 0\\\\ \n",
    "\\qquad p = p_i\n",
    "\\end{matrix}\\right.\n",
    "$$\n",
    "\n",
    "La conservazione dell’energia implica, usando l’eq.(\\ref{eq:consen})\n",
    "$$\n",
    "h\\nu + E_{in,el} = h\\nu + mc^2 = E_{fin,el} =\\sqrt{(cp)^2+(mc^2)^2}=\\sqrt{(h\\nu)^2+(mc^2)^2}\n",
    "$$\n",
    "\n",
    "che è chiaramente impossibile. Quindi un elettrone libero non puó assorbire un fotone."
   ]
  },
  {
   "cell_type": "code",
   "execution_count": null,
   "metadata": {},
   "outputs": [],
   "source": []
  }
 ],
 "metadata": {
  "kernelspec": {
   "display_name": "Python 3",
   "language": "python",
   "name": "python3"
  },
  "language_info": {
   "codemirror_mode": {
    "name": "ipython",
    "version": 3
   },
   "file_extension": ".py",
   "mimetype": "text/x-python",
   "name": "python",
   "nbconvert_exporter": "python",
   "pygments_lexer": "ipython3",
   "version": "3.7.6"
  },
  "latex_envs": {
   "LaTeX_envs_menu_present": true,
   "autoclose": false,
   "autocomplete": false,
   "bibliofile": "biblio.bib",
   "cite_by": "apalike",
   "current_citInitial": 1,
   "eqLabelWithNumbers": true,
   "eqNumInitial": 1,
   "hotkeys": {
    "equation": "Ctrl-E",
    "itemize": "Ctrl-I"
   },
   "labels_anchors": false,
   "latex_user_defs": false,
   "report_style_numbering": false,
   "user_envs_cfg": true
  },
  "toc": {
   "base_numbering": 1,
   "nav_menu": {},
   "number_sections": true,
   "sideBar": true,
   "skip_h1_title": false,
   "title_cell": "Table of Contents",
   "title_sidebar": "Contents",
   "toc_cell": false,
   "toc_position": {
    "height": "calc(100% - 180px)",
    "left": "10px",
    "top": "150px",
    "width": "352.729px"
   },
   "toc_section_display": true,
   "toc_window_display": true
  }
 },
 "nbformat": 4,
 "nbformat_minor": 4
}
