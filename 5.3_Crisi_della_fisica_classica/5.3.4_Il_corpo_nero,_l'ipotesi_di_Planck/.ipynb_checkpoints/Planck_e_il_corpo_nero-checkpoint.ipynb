{
 "cells": [
  {
   "cell_type": "markdown",
   "metadata": {
    "slideshow": {
     "slide_type": "slide"
    },
    "toc": true
   },
   "source": [
    "<h1>Table of Contents<span class=\"tocSkip\"></span></h1>\n",
    "<div class=\"toc\"><ul class=\"toc-item\"><li><span><a href=\"#Introduzione-al-problema-del-corpo-nero-\" data-toc-modified-id=\"Introduzione-al-problema-del-corpo-nero--1\"><span class=\"toc-item-num\">1&nbsp;&nbsp;</span>Introduzione al problema del corpo nero <a id=\"intro\"></a></a></span><ul class=\"toc-item\"><li><span><a href=\"#Un-po'-di-storia..-\" data-toc-modified-id=\"Un-po'-di-storia..--1.1\"><span class=\"toc-item-num\">1.1&nbsp;&nbsp;</span>Un po' di storia.. <a id=\"storia\"></a></a></span></li><li><span><a href=\"#Kirchhoff-\" data-toc-modified-id=\"Kirchhoff--1.2\"><span class=\"toc-item-num\">1.2&nbsp;&nbsp;</span>Kirchhoff <a id=\"kir\"></a></a></span></li><li><span><a href=\"#legge-di-Rayleigh-Jeans-\" data-toc-modified-id=\"legge-di-Rayleigh-Jeans--1.3\"><span class=\"toc-item-num\">1.3&nbsp;&nbsp;</span>legge di Rayleigh-Jeans <a id=\"lrj\"></a></a></span><ul class=\"toc-item\"><li><ul class=\"toc-item\"><li><span><a href=\"#La-legge-di-Wien\" data-toc-modified-id=\"La-legge-di-Wien-1.3.0.1\"><span class=\"toc-item-num\">1.3.0.1&nbsp;&nbsp;</span>La legge di Wien</a></span></li><li><span><a href=\"#Legge-di-stefan-Boltzmann\" data-toc-modified-id=\"Legge-di-stefan-Boltzmann-1.3.0.2\"><span class=\"toc-item-num\">1.3.0.2&nbsp;&nbsp;</span>Legge di stefan-Boltzmann</a></span></li></ul></li></ul></li></ul></li><li><span><a href=\"#Dimostrazione-della-formula-di-Planck\" data-toc-modified-id=\"Dimostrazione-della-formula-di-Planck-2\"><span class=\"toc-item-num\">2&nbsp;&nbsp;</span>Dimostrazione della formula di Planck</a></span><ul class=\"toc-item\"><li><span><a href=\"#Ipotesi\" data-toc-modified-id=\"Ipotesi-2.1\"><span class=\"toc-item-num\">2.1&nbsp;&nbsp;</span>Ipotesi</a></span><ul class=\"toc-item\"><li><span><a href=\"#Ipotesi-di-quantizzazione---Palnck\" data-toc-modified-id=\"Ipotesi-di-quantizzazione---Palnck-2.1.1\"><span class=\"toc-item-num\">2.1.1&nbsp;&nbsp;</span>Ipotesi di quantizzazione - Palnck</a></span></li><li><span><a href=\"#Fattore-di-Boltzmann\" data-toc-modified-id=\"Fattore-di-Boltzmann-2.1.2\"><span class=\"toc-item-num\">2.1.2&nbsp;&nbsp;</span>Fattore di Boltzmann</a></span><ul class=\"toc-item\"><li><span><a href=\"#$h\\nu-\\ll-k_BT$\" data-toc-modified-id=\"$h\\nu-\\ll-k_BT$-2.1.2.1\"><span class=\"toc-item-num\">2.1.2.1&nbsp;&nbsp;</span>$h\\nu \\ll k_BT$</a></span></li><li><span><a href=\"#$h\\nu=k_BT$\" data-toc-modified-id=\"$h\\nu=k_BT$-2.1.2.2\"><span class=\"toc-item-num\">2.1.2.2&nbsp;&nbsp;</span>$h\\nu=k_BT$</a></span></li><li><span><a href=\"#$h\\nu>k_BT$\" data-toc-modified-id=\"$h\\nu>k_BT$-2.1.2.3\"><span class=\"toc-item-num\">2.1.2.3&nbsp;&nbsp;</span>$h\\nu&gt;k_BT$</a></span></li></ul></li></ul></li><li><span><a href=\"#L'equilibrio-termodinamico-ed-energia-del-corpo-nero\" data-toc-modified-id=\"L'equilibrio-termodinamico-ed-energia-del-corpo-nero-2.2\"><span class=\"toc-item-num\">2.2&nbsp;&nbsp;</span>L'equilibrio termodinamico ed energia del corpo nero</a></span><ul class=\"toc-item\"><li><span><a href=\"#Studiamo-il--denominatore\" data-toc-modified-id=\"Studiamo-il--denominatore-2.2.1\"><span class=\"toc-item-num\">2.2.1&nbsp;&nbsp;</span>Studiamo il  denominatore</a></span></li><li><span><a href=\"#Studiamo-il--numeraore\" data-toc-modified-id=\"Studiamo-il--numeraore-2.2.2\"><span class=\"toc-item-num\">2.2.2&nbsp;&nbsp;</span>Studiamo il  numeraore</a></span></li></ul></li><li><span><a href=\"#L'energia-media-e-la-distribuzione-di-Planck\" data-toc-modified-id=\"L'energia-media-e-la-distribuzione-di-Planck-2.3\"><span class=\"toc-item-num\">2.3&nbsp;&nbsp;</span>L'energia media e la distribuzione di Planck</a></span></li><li><span><a href=\"#la-densità-di-energia---distribuzione-di-Planck\" data-toc-modified-id=\"la-densità-di-energia---distribuzione-di-Planck-2.4\"><span class=\"toc-item-num\">2.4&nbsp;&nbsp;</span>la densità di energia - distribuzione di Planck</a></span></li></ul></li><li><span><a href=\"#Conseguenze-della-formula-di-Planck\" data-toc-modified-id=\"Conseguenze-della-formula-di-Planck-3\"><span class=\"toc-item-num\">3&nbsp;&nbsp;</span>Conseguenze della formula di Planck</a></span><ul class=\"toc-item\"><li><span><a href=\"#La-legge-di-Wien\" data-toc-modified-id=\"La-legge-di-Wien-3.1\"><span class=\"toc-item-num\">3.1&nbsp;&nbsp;</span>La legge di Wien</a></span></li><li><span><a href=\"#La-legge-di-Stefan\" data-toc-modified-id=\"La-legge-di-Stefan-3.2\"><span class=\"toc-item-num\">3.2&nbsp;&nbsp;</span>La legge di Stefan</a></span></li><li><span><a href=\"#La-legge-di-Rayleigh-Jeans\" data-toc-modified-id=\"La-legge-di-Rayleigh-Jeans-3.3\"><span class=\"toc-item-num\">3.3&nbsp;&nbsp;</span>La legge di Rayleigh-Jeans</a></span></li></ul></li></ul></div>"
   ]
  },
  {
   "cell_type": "code",
   "execution_count": 2,
   "metadata": {
    "slideshow": {
     "slide_type": "skip"
    }
   },
   "outputs": [],
   "source": [
    "import numpy as np\n",
    "import matplotlib\n",
    "import matplotlib.pyplot as plt\n",
    "from IPython.display import Image\n",
    "from IPython.display import IFrame\n",
    "from scipy.constants import h, c, k, pi"
   ]
  },
  {
   "cell_type": "markdown",
   "metadata": {
    "slideshow": {
     "slide_type": "slide"
    }
   },
   "source": [
    "# La legge di Planck \n",
    "\n",
    "$$\n",
    "u(\\nu,T)= \\frac{8\\pi \\nu^2}{c^3}\\nu^2  \\frac{h\\nu}{e^{\\frac{h\\nu}{kT}}-1}\n",
    "$$\n",
    "\n",
    "<a title=\"Darth Kule / Public domain\" href=\"https://commons.wikimedia.org/wiki/File:Black_body.svg\"><img width=\"512\" alt=\"Black body\" src=\"https://upload.wikimedia.org/wikipedia/commons/thumb/1/19/Black_body.svg/512px-Black_body.svg.png\"></a>\n",
    "\n"
   ]
  },
  {
   "cell_type": "code",
   "execution_count": 5,
   "metadata": {
    "slideshow": {
     "slide_type": "slide"
    }
   },
   "outputs": [
    {
     "data": {
      "text/html": [
       "\n",
       "        <iframe\n",
       "            width=\"700\"\n",
       "            height=\"600\"\n",
       "            src=\"https://phet.colorado.edu/sims/html/blackbody-spectrum/latest/blackbody-spectrum_en.html\"\n",
       "            frameborder=\"0\"\n",
       "            allowfullscreen\n",
       "        ></iframe>\n",
       "        "
      ],
      "text/plain": [
       "<IPython.lib.display.IFrame at 0x7fa2d4fecbd0>"
      ]
     },
     "execution_count": 5,
     "metadata": {},
     "output_type": "execute_result"
    }
   ],
   "source": [
    "IFrame(src='https://phet.colorado.edu/sims/html/blackbody-spectrum/latest/blackbody-spectrum_en.html', width=700, height=600)"
   ]
  },
  {
   "cell_type": "markdown",
   "metadata": {
    "heading_collapsed": true,
    "slideshow": {
     "slide_type": "notes"
    }
   },
   "source": [
    "## Introduzione al problema del corpo nero <a id=\"intro\"></a>\n",
    "\n",
    "### Un po' di storia.. <a id=\"storia\"></a>\n",
    "Tutti noi abbiamo esperienza del fatto che una brace\n",
    "gialla in un camino ardente $(1400-1600\\,  °C)$ risulta più calda di una brace rossa di un camino in via di spegnimento $(1200-1300\\, °C)$. All’aumentare della\n",
    "temperatura, il colore della luce emessa si sposta dal rosso verso il blu. La\n",
    "correlazione tra il colore della radiazione termica emessa e la temperatura di\n",
    "oggetti incandescenti, incuriosı̀ l’astronomo anglo-tedesco William Herschel\n",
    "che, già nel 1800 (prima dell’insorgere delle necessità industriali di cui si è\n",
    "appena parlato), effettuò una scoperta sorprendente. Facendo passare la luce\n",
    "del Sole attraverso un prisma e, facendo in modo che ognuno dei colori in cui\n",
    "veniva scomposta la luce andasse a colpire uno solo dei diversi termometri\n",
    "disposti su di un banco, si accorse che i termometri non indicavano tutti la\n",
    "stessa temperatura. Si tratta della prima evidenza del fatto che l’intensità\n",
    "della radiazione che proviene dal Sole è diversa per ognuna delle lunghezze\n",
    "d’onda incidenti. In particolare, la **distribuzione spettrale della radiazione\n",
    "emessa dal Sole, assomiglia moltissimo a quella del già citato corpo nero.**\n",
    "\n",
    "In realtà, ogni corpo che non si trovi in equilibrio termico con l’ambiente\n",
    "che lo circonda, emette radiazione in forma di comune calore. Il fenomeno\n",
    "è riconducibile all’oscillazione delle cariche del corpo stesso che, in accordo\n",
    "con la teoria di Maxwell (e le osservazioni di Hertz) muovendosi emettono\n",
    "radiazione, rallentando. In questo modo il corpo si raffredda.\n",
    "\n",
    "\n",
    "### Kirchhoff <a id=\"kir\"></a>\n",
    "Planck riconoscerà l’importanza del modello di Kirchhoff\n",
    "per lo sviluppo della sua teoria, affermando:\n",
    "*\"Kirchhoff ha dimostrato che lo stato della radiazione termica all’interno di una cavità delimitata da una\n",
    "sostanza, di qualsiasi natura, che la assorbe e la emette, a una temperatura\n",
    "uniforme, è totalmente indipendente dalla natura della sostanza stessa. È\n",
    "stata cosı̀ dimostrata l’esistenza di una funzione universale che dipende solo\n",
    "dalla temperatura e dalla lunghezza d’onda (come dalla frequenza), ma in\n",
    "nessun modo dalle proprietà di alcuna sostanza. La scoperta di tale funzione straordinaria prometteva una comprensione più profonda della relazione\n",
    "tra energia e temperatura che è, di fatto, il problema più importante della\n",
    "termodinamica e, di conseguenza, di tutta la fisica molecolare.\"*\n",
    "\n",
    "\n",
    "### legge di Rayleigh-Jeans <a id=\"lrj\"></a>\n",
    "\n",
    "Lord Rayleigh vuole ricavare la funzione che descrive l'energia per unità di volume e di lunghezza d'onda che viene emessa all'interno del corpo nero posto ad una temperatura $T$. Ossia vuole ricavare\n",
    "$$\n",
    "I(\\lambda,T)\n",
    "$$\n",
    "Sapendo che valgono le leggi di Wien e di Stefan-Boltzmann\n",
    "\n",
    "---\n",
    "\n",
    "##### La legge di Wien\n",
    "La legge dello spostamento di Wien è:\n",
    "$$\n",
    "\\lambda_{max}T=b; \\quad b\\,\\text{è una costante misurata empiricamente, detta costante di Wien}\\\\\n",
    "b=2,898\\cdot 10^{-3}\\, m\\cdot K\n",
    "$$\n",
    "##### Legge di stefan-Boltzmann\n",
    "La potenza per unità di area totale irraggiata da un corpo  che si trova ad una data temperatura è:\n",
    "$$\n",
    "I_{tot}(T)=\\sigma\\cdot T^4; \\quad \\sigma=5.67\\cdot10^{-8}\\, \\frac{W}{m^2K^4}\n",
    "$$\n",
    "\n",
    "---\n",
    "\n",
    "Si tratta, comunque, di un approccio di tipo classico, basato sulla possibilità di **assorbire ed emettere radiazione in cavità (ad ogni lunghezza d’onda) , solo per mezzo di onde elettromagnetiche stazionarie.**\n",
    "\n",
    "Per onda stazionaria s’intende un’onda che non si propaga lungo\n",
    "una fissata direzione spaziale, ma oscilla soltanto nel tempo. Essa presenterà\n",
    "dunque dei punti in cui è fissa e di ampiezza nulla, detti nodi.\n",
    "\n",
    "Nel modello di Rayleigh:\n",
    "1. i nodi delle onde stazionarie si trovano sempre sulle pareti della\n",
    "cavità\n",
    "2. ogni trasmissione di energia all’interno della cavità è vincolato ad avvenire per mezzo di un onda stazionaria.\n",
    "\n",
    "Su questa base, egli associò ogni onda a un oscillatore armonico unidimensionale (l’oscillazione armonica è legata all’oscillazione del campo elettrico). In questo modo,\n",
    "la densità spettrale d’energia $u_\\nu(T)$, ovvero l’energia per unità di volume in un intervallo infinitesimo di lunghezza d’onda, sarà ottenuta come prodotto tra la densità di volume $n_\\lambda$ dei modi di lunghezza d’onda compresa tra $\\lambda$ e $\\lambda+d\\lambda$ e l’energia media $<\\epsilon_\\lambda>$  di un oscillatore, ovvero:\n",
    "$$\n",
    "\\rho=n_\\lambda<\\epsilon_\\lambda>.\n",
    "$$\n",
    "\n",
    "Utilizzando il principio di equipartizione e l'ipotesi di un campo elettromagnetico formato da onde stazionari Raylegh arriva alla conclusione che La densità di energia $u_\\nu$ per unità di intervallo di frequenza a una frequenza $\\nu$ è, secondo The Rayleigh-Jeans Radiation,\n",
    "\n",
    "$$\n",
    "u_\\nu(T) = \\frac{8\\pi}{c^2}\\nu^2k_bT\n",
    "$$\n",
    "\n",
    "\n",
    "\n",
    "\n",
    "Per un dimostrazione [legge di Rayleigh-Jeans](https://github.com/massimobosetti/Physics-Problem/blob/master/5_anno/5.3%20Crisi%20della%20fisica%20classica/5.3.6.2%20Derivazione%20della%20legge%20di%20Rayleigh-Jeans.ipynb)\n",
    "\n",
    "Che porta al problema della catastrofe ultravioletta e la mancanza di accordo con i dati sperimentali a frequenze elvate.\n",
    "\n",
    "\n",
    "\n",
    "\n"
   ]
  },
  {
   "cell_type": "markdown",
   "metadata": {
    "slideshow": {
     "slide_type": "slide"
    }
   },
   "source": [
    "## Dimostrazione della formula di Planck\n",
    " \n",
    "### Ipotesi\n",
    "\n",
    "\n",
    "#### Ipotesi di quantizzazione - Palnck\n",
    "\n",
    "L'energia del campo magnetico all'interno della cavità, all'equilibrio, non può prendere qualsiasi valore, ma può assumere solo multipli interi di una energia *discretizzata*, un **quanto di energia** che dipende dalla frequenza e da una costante, cioè:\n",
    "\n",
    "$$\n",
    "\\label{eq:planck}\n",
    "E_n=n\\,h\\nu \\quad\\qquad (n=0,1,2,\\cdots)\\,\\in \\mathbb{N}\n",
    "$$"
   ]
  },
  {
   "cell_type": "markdown",
   "metadata": {
    "slideshow": {
     "slide_type": "slide"
    }
   },
   "source": [
    "#### Fattore di Boltzmann\n",
    "\n",
    "Le energie vanno \"pesate\" con un fattore. Non tutte le energia hanno lo stesso peso. Anzi andando ad energie elevate, ovvero frequenze elevate, queste debbono necessariamente essere meno probabile. Il fattore che media è il fattore di Boltzmann\n",
    "$$\n",
    "f(E_n)=e^{-\\frac{E_n}{k_BT}}\n",
    "$$\n",
    "\n",
    "<img width=\"512\" alt=\"Boltzmann_factor\" src=\"https://drive.google.com/uc?export=view&id=12fEgu-Ft6dcAgqWBj8H3RHMjHu75O1kU\"></img>\n",
    "\n",
    "come ben si può vedere dal grafico, questo fattore va a pesare in modo differente energie diverse e fornisce la probaibilità che in uno sistema ad una temperatura $T$ ci sia un oscillatore, o un modo del campo elettromagnetico, con energia $h\\nu$.\n"
   ]
  },
  {
   "cell_type": "markdown",
   "metadata": {
    "slideshow": {
     "slide_type": "subslide"
    }
   },
   "source": [
    "##### $h\\nu \\ll k_BT$\n",
    "\n",
    "Per capire il grafico fissiamo una temperatura $T$ e pensiamo a 3 regimi diversi:\n",
    "<img width=\"512\" alt=\"Boltzmann_factor\" src=\"https://drive.google.com/uc?export=view&id=1Dpv5pqHERHFGkR9V_r_3XfHbstdzyfMj\"></img>\n",
    "\n",
    "\n",
    "Abbiamo quindi una suddivisione delle energie in molti intervalli piccoli"
   ]
  },
  {
   "cell_type": "markdown",
   "metadata": {
    "slideshow": {
     "slide_type": "subslide"
    }
   },
   "source": [
    "##### $h\\nu=k_BT$\n",
    "\n",
    "<img width=\"512\" alt=\"Boltzmann_factor\" src=\"https://drive.google.com/uc?export=view&id=1wuZb9vz4gdHbBDg0LWwy1PpoHxU0IhDm\"></img>\n",
    "\n",
    "\n",
    "Come si può notare se andiamo ad una energia per cui $k_BT=h\\nu$ allora il fattore si "
   ]
  },
  {
   "cell_type": "markdown",
   "metadata": {
    "slideshow": {
     "slide_type": "subslide"
    }
   },
   "source": [
    "##### $h\\nu>k_BT$\n",
    "\n",
    "<img width=\"512\" alt=\"Boltzmann_factor\" src=\"https://drive.google.com/uc?export=view&id=1BlyEbm-1ArQUQmZMdbbILDey3vsySEH8\"></img>\n",
    "\n"
   ]
  },
  {
   "cell_type": "markdown",
   "metadata": {
    "slideshow": {
     "slide_type": "slide"
    }
   },
   "source": [
    "### L'equilibrio termodinamico ed energia del corpo nero\n",
    "\n",
    "All'equilibrio termodinamico vogliamo conoscere l'energia media $<E>$, quindi:\n",
    "\n",
    "L'energia media è data da:\n",
    "$$\n",
    "<E> = \\frac{\\text{somma delle energie di tutti gli stati nella cavità}\\cdot\\text{peso di ogni energia}}{\\text{numero totale degli stati}\\cdot\\text{peso di ogni energia}}\n",
    "$$\n",
    "Ricordando che:\n",
    "1. $E_n=nh\\nu;$ energia dello stato\n",
    "2. $f(E_n)=e^{-\\frac{E_n}{k_BT}};$ peso dello stano $n$-esimo\n",
    "\n",
    "Otteniamo che:\n",
    "\\begin{equation}\\label{eq:energia media}\n",
    "<E>=\\frac{\\sum_{n}E_n\\cdot f(E_n)}{\\sum_{n} f(E_n)}=\\frac{\\sum_{n}E_n\\cdot e^{-\\frac{E_n}{k_BT}}}{\\sum_{n} e^{-\\frac{E_n}{k_BT}}}=\\\\\n",
    "    \\frac{\\sum_{n}nh\\nu\\cdot e^{-\\frac{nh\\nu}{k_BT}}}{\\sum_{n} e^{-\\frac{nh\\nu}{k_BT}}}\n",
    "\\end{equation}\n",
    "\n",
    "Dobbiamo quindi capire come fare questa somma infinita che va da $n=0$ a $n=\\infty$. cioè il rapporto di due serie.\n",
    "\n",
    "innanzitutto facciamo una sotituzione per rendere il problema più leggibile\n",
    "   $$\n",
    "   x=\\frac{h\\nu}{kT}\n",
    "   $$\n",
    "    \n",
    "Da ciò otteniamo\n",
    "\\begin{equation}\\label{eq:energia media_1}\n",
    "<E>= \\frac{\\sum_{n}nkTx\\cdot e^{-nx}}{\\sum_{n}  e^{-nx}}\n",
    "\\end{equation}"
   ]
  },
  {
   "cell_type": "markdown",
   "metadata": {
    "slideshow": {
     "slide_type": "subslide"
    }
   },
   "source": [
    "Studiamo in modo separato il denominatore ed il numeratore\n",
    "\n",
    "#### Studiamo il  denominatore\n",
    "\n",
    "Introduciamo la funzione\n",
    "\n",
    "\\begin{equation}\\label{eq:Z}\n",
    "Z(x) = \\sum_{n=0}^\\infty  e^{-nx}\n",
    "\\end{equation}\n",
    "\n",
    "come si può sosservare è un a serie geometrica\n",
    "\n",
    "\\begin{equation}\\label{eq:ser geom}\n",
    "1+e^{-x}+e^{-2x}+e^{-3x}+\\dots +e^{-nx}+\\dots\n",
    "\\end{equation}\n",
    "Con ragione\n",
    "$$\n",
    "q=e^{-x} \\Rightarrow \\text{ di somma } \\ \\sum_{n=0}^\\infty q^n = \\frac{1}{1-q}\\\\\n",
    "\\Downarrow\\\\\n",
    "Z(x) = \\sum_{n=0}^\\infty  e^{-nx} =\\frac{1}{1-e^{-x}}\n",
    "$$"
   ]
  },
  {
   "cell_type": "markdown",
   "metadata": {
    "slideshow": {
     "slide_type": "subslide"
    }
   },
   "source": [
    "#### Studiamo il  numeraore\n",
    "\n",
    "Il numeratore è\n",
    "\\begin{equation}\\label{eq:num_p}\n",
    "kT\\sum_{n=0}^\\infty n x e^{-nx}\n",
    "\\end{equation}\n",
    "\n",
    "Ritorniamo alla funzione $Z(x)$ e proviamo a ricavare la derivata.\n",
    "\n",
    "\\begin{equation}\\label{eq:der_Z}\n",
    "\\frac{dZ(x)}{dx}= \\frac{d}{dx}\\sum_{n=0}^\\infty  e^{-nx}\n",
    "\\end{equation}\n",
    "\n",
    "Abbiamo qui la derivata si una somma, e per quanto infinita, le regole di derivazione (visto che le funzioni sono continue e derivabili in tutto $\\mathbb{R}$) valgono ancora, e quindi la derivata della somma è la somma delle derivate:\n",
    "\n",
    "\\begin{equation}\\label{eq:der_Z1}\n",
    "\\frac{dZ(x)}{dx}=- \\sum_{n=0}^\\infty n e^{-nx}\n",
    "\\end{equation}\n",
    "\n",
    "L'osservazione da fare è che quindi il numeratore e la derivata di $Z(x)$ sono uguali a meno di un fattore, cioè:\n",
    "\n",
    "\\begin{equation}\\label{eq:num_p1}\n",
    "\\sum_{n=0}^\\infty nx e^{-nx} = - x \\frac{dZ(x)}{dx}\n",
    "\\end{equation}"
   ]
  },
  {
   "cell_type": "markdown",
   "metadata": {
    "slideshow": {
     "slide_type": "-"
    }
   },
   "source": [
    "### L'energia media e la distribuzione di Planck\n",
    "\n",
    "Sosttiutiamo quindi i risultati ottenuti\n",
    "\n",
    "$$\n",
    "<E> = \\frac{\\sum_{n}nkTx\\cdot e^{-nx}}{\\sum_{n}  e^{-nx}} = \\frac{-kTx  \\frac{dZ(x)}{dx}}{Z(x)}\n",
    "$$\n",
    "Guardiamo bene il termine\n",
    "\n",
    "$$\n",
    "\\frac{\\frac{dZ(x)}{dx}}{Z(x)} = \\frac{1}{Z(x)}\\frac{dZ(x)}{dx}\n",
    "$$\n",
    "\n",
    "Dovreste accorgervi che se facciamo la derivata di\n",
    "$$\n",
    "\\frac{d\\ln{f(x)}}{dx} = \\frac{1}{f(x)}\\frac{df(x)}{dx}\n",
    "$$\n",
    "\n",
    "E quindi\n",
    "$$\n",
    " \\frac{1}{Z(x)}\\frac{dZ(x)}{dx} = \\frac{d\\ln{Z(x)}}{dx} \n",
    "$$\n",
    "\n",
    "Che sostituita nel calcolo dell'energia media  ci da:\n",
    "\n",
    "\\begin{matrix}\n",
    "    <E> &= -kTx\\frac{1}{Z(x)}\\frac{dZ(x)}{dx}  =& -kTx \\frac{d\\ln{Z(x)}}{dx} \\\\ \n",
    "           &=  -kTx \\frac{d\\left (\\ln{\\left ( 1-e^{-x}\\right )^{-1}}\\right )}{dx} =& -kTx \\frac{d\\left (-\\ln{\\left ( 1-e^{-x}\\right )}\\right )}{dx}  \\\\ \n",
    "        &= kTx \\frac{d\\left (\\ln{\\left ( 1-e^{-x}\\right )}\\right )}{dx} = &  kTx \\frac{e^{-x}}{ 1-e^{-x}}     \n",
    "\\end{matrix}\n"
   ]
  },
  {
   "cell_type": "markdown",
   "metadata": {
    "slideshow": {
     "slide_type": "subslide"
    }
   },
   "source": [
    "Infine operando l'ultima sotituzione otteniamo la **Legge di Planck** in funzione della frequenza della frequenza:\n",
    "\n",
    "$$\n",
    "<E> = h\\nu \\frac{e^{-\\frac{h\\nu}{kT}}}{1-e^{-\\frac{h\\nu}{kT}}} =  \\frac{h\\nu}{e^{\\frac{h\\nu}{kT}}-1};\\quad\\quad\\quad \\text{Legge di Planck}\n",
    "$$\n",
    "Si noti che\n",
    "$$\n",
    "\\nu=c / \\lambda \\Rightarrow d \\nu=-\\left(c / \\lambda^{2}\\right) d \\lambda \\Rightarrow \\frac{d \\nu}{d \\lambda}=-\\frac{c}{\\lambda^{2}}\n",
    "$$\n"
   ]
  },
  {
   "cell_type": "markdown",
   "metadata": {
    "slideshow": {
     "slide_type": "fragment"
    }
   },
   "source": [
    "### la densità di energia - distribuzione di Planck\n",
    "\n",
    "Per ottenere la densità energetica dobbiamo moltiplicare per la densità degli stati, euqivalente a quelli di Rayleghi-Jeans $dN = \\frac{8\\pi L^3\\nu^2}{c^3}d\\nu  $ e dividere per il volume $L^3$,\n",
    "$$\n",
    "u(\\nu,T)= \\frac{8\\pi \\nu^2}{c^3}\\nu^2  \\frac{h\\nu}{e^{\\frac{h\\nu}{kT}}-1}\n",
    "$$ \n",
    "che è in ottimo accordo con i dati sperimentali.\n",
    "\n",
    "Si noti che\n",
    "\n",
    "\\begin{equation}\\label{eq:PLANCK}\n",
    "\\nu=c / \\lambda \\Rightarrow d \\nu=-\\left(c / \\lambda^{2}\\right) d \\lambda \\Rightarrow \\frac{d \\nu}{d \\lambda}=-\\frac{c}{\\lambda^{2}}\n",
    "\\end{equation}\n",
    "\n",
    "quindi la formula di Planck eq. (20) per la distribuzione spettrale della radiazione espressa in lunghezzn d'onda si scrive\n",
    "$$\n",
    "u_{T}(\\lambda) d \\lambda=\\frac{8 \\pi h c}{\\lambda^{5}} \\frac{d \\lambda}{e^{k / \\lambda k_{n} T}-1}\n",
    "$$"
   ]
  },
  {
   "cell_type": "markdown",
   "metadata": {
    "slideshow": {
     "slide_type": "slide"
    }
   },
   "source": [
    "## Conseguenze della formula di Planck\n",
    "\n",
    "Utilizando leq.(26) è possibile ricavare la legge di Wien, di Stefan e la legge di Rayleigh-Jeans come limite per $\\nu \\rightarrow 0$\n",
    "\n",
    "### La legge di Wien\n",
    "Imponendo che la derivata  rispetto a $ \\nu$ dell'eq. (26) si annulli si determina $\\nu_{\\max }$ e $\\lambda_{\\max }=c / \\nu_{\\max }$\n",
    "\n",
    "$$\n",
    "\\begin{aligned}\n",
    "\\frac{d \\rho_{T}(\\nu)}{d \\nu}=0 & \\Rightarrow\\left(3 \\nu^{2}-\\nu^{3} \\frac{h}{k_{B} T} e^{\\omega_{W} / k_{B} T}\\left(e^{k w / k_{B} T}-1\\right)^{-1}\\right)=0 \\\\\n",
    "& \\Rightarrow 3\\left(e^{\\alpha}-1\\right)-\\alpha e^{\\alpha}=0 \\Rightarrow e^{\\alpha}(1-\\alpha / 3)=1\n",
    "\\end{aligned}\n",
    "$$\n",
    "\n",
    "Per trovare la soluzione dell'eq.(24) occorre risolvere l'equazione trascendente\n",
    "$$\n",
    "e^{-\\alpha}=(1-\\alpha / 3) \\Rightarrow \\alpha \\sim 2.8 \\Rightarrow \\lambda_{\\max } T=0.29\\, \\mathrm{cm} K\n",
    "$$\n",
    "\n",
    "* La soluzione dell'equazione si trova graficamente cercando il valore di $\\alpha$ per il quale la retta $1-\\alpha / 3$ intercetta la curva esponenziale $e^{-\\alpha} .$ II valore $\\alpha=0$ va scartato perché corrisponde ad $\\nu=0$ (minimo della curva)."
   ]
  },
  {
   "cell_type": "markdown",
   "metadata": {
    "slideshow": {
     "slide_type": "subslide"
    }
   },
   "source": [
    "<img src=\"http://drive.google.com/uc?export=view&id=1Yk2G_TRe61q8YXB4g9KXgg0IC2XWEIOc\">\n"
   ]
  },
  {
   "cell_type": "markdown",
   "metadata": {
    "slideshow": {
     "slide_type": "slide"
    }
   },
   "source": [
    "### La legge di Stefan\n",
    "Calcoliamo la radianza usando l'eq.( 26 ), ricordando che la radianza spettrale è proporzionale alla densità d'energia\n",
    "$$\n",
    "u_{T} \\propto \\int_{0}^{\\infty} \\rho_{T}(\\nu) d \\nu=\\int_{0}^{\\infty} \\frac{8 \\pi \\nu^{2}}{c^{3}} \\frac{h \\nu}{e^{k \\omega / k_{B} T}-1} d \\nu\n",
    "$$\n",
    "\n",
    "Cambiando variabile\n",
    "$$\\alpha=h \\nu / k_{B} T \\Rightarrow k_{B} T / h d \\alpha=d \\nu$$\n",
    "\n",
    "L'eq.(33) si scrive\n",
    "$$\n",
    "u_{T} \\propto \\frac{8 \\pi h}{c^{3}}\\left(\\frac{k_{B} T}{h}\\right)^{4} \\int_{0}^{\\infty} \\frac{\\alpha^{3} e^{-\\alpha} d \\alpha}{1-e^{-\\alpha}}\n",
    "$$\n",
    "\n",
    "Leq.(33) mostra una proporzionalità tra la radianza e la quarta potenza della temperatura, in quanto lintegrale indefinito è un numero. Tale integrale si può esplicitamente calcolare mediante uno sviluppo in serie di potenze del denominatore dell'integrando (che non facciamo ma che da come risultato:\n",
    "\n",
    "\n",
    "$$\n",
    "\\int_{0}^{\\infty} \\frac{\\alpha^{3} e^{-\\alpha} d \\alpha}{1-e^{-\\alpha}}= \\frac{\\pi^{4}}{15}$$\n",
    "\n",
    "Inserendo tale espressione l'integrale in $\\alpha$ dell'eq.(33) diventa\n",
    "$$\n",
    "u_{T}  \\propto \\frac{8 \\pi h}{c^{3}}\\left(\\frac{k_{B} T}{h}\\right)^{4}  \\frac{\\pi^{4}}{15}\n",
    "$$"
   ]
  },
  {
   "cell_type": "markdown",
   "metadata": {
    "slideshow": {
     "slide_type": "slide"
    }
   },
   "source": [
    "### La legge di Rayleigh-Jeans\n",
    "Se $h \\nu<<k_{B} T$ possinmo sviluppare lesponenzinle che appare nel denominntore dell'eq.(26) e fermarci al primo ordine\n",
    "$$\n",
    "\\rho_{T}(\\nu)_{\\nu \\rightarrow 0} \\sim k_{B} T \\frac{8 \\pi \\nu^{2}}{c^{3}}\n",
    "$$\n",
    "\n",
    "che è la legge classica vedi di Rayleigh-Jeans. Si ricordi che\n",
    "\n",
    "$$\n",
    "e^{x}=\\sum_{n=0}^{\\infty} \\frac{x^{n}}{n !}=1+x+x^{2} / 2+x^{3} / 6 \\ldots\n",
    "$$\n",
    "Si noti che la disuguaglianza $h \\nu<<k_{B} T$ é verificata a basse frequenze e per ogni valore di $\\nu$ se $h \\rightarrow 0,$ limite classico."
   ]
  }
 ],
 "metadata": {
  "celltoolbar": "Slideshow",
  "kernelspec": {
   "display_name": "Python 3",
   "language": "python",
   "name": "python3"
  },
  "language_info": {
   "codemirror_mode": {
    "name": "ipython",
    "version": 3
   },
   "file_extension": ".py",
   "mimetype": "text/x-python",
   "name": "python",
   "nbconvert_exporter": "python",
   "pygments_lexer": "ipython3",
   "version": "3.7.6"
  },
  "latex_envs": {
   "LaTeX_envs_menu_present": true,
   "autoclose": false,
   "autocomplete": true,
   "bibliofile": "biblio.bib",
   "cite_by": "apalike",
   "current_citInitial": 1,
   "eqLabelWithNumbers": true,
   "eqNumInitial": 1,
   "hotkeys": {
    "equation": "Ctrl-E",
    "itemize": "Ctrl-I"
   },
   "labels_anchors": false,
   "latex_user_defs": false,
   "report_style_numbering": false,
   "user_envs_cfg": false
  },
  "toc": {
   "base_numbering": 1,
   "nav_menu": {
    "height": "216.997px",
    "width": "353.177px"
   },
   "number_sections": true,
   "sideBar": true,
   "skip_h1_title": true,
   "title_cell": "Table of Contents",
   "title_sidebar": "Contents",
   "toc_cell": true,
   "toc_position": {
    "height": "calc(100% - 180px)",
    "left": "10px",
    "top": "150px",
    "width": "350.75px"
   },
   "toc_section_display": true,
   "toc_window_display": true
  }
 },
 "nbformat": 4,
 "nbformat_minor": 4
}
