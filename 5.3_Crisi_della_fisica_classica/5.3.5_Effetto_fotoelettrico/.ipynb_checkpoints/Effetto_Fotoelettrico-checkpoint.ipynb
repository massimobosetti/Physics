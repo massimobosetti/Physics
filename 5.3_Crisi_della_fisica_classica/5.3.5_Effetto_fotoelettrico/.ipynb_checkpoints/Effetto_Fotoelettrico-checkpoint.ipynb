{
 "cells": [
  {
   "cell_type": "code",
   "execution_count": 1,
   "metadata": {},
   "outputs": [],
   "source": [
    "from IPython.display import IFrame\n",
    "from IPython.display import YouTubeVideo"
   ]
  },
  {
   "cell_type": "markdown",
   "metadata": {},
   "source": [
    "# l'effetto fotoelettrico\n",
    "\n",
    "<img width=\"363\" alt=\"Einstein\" src=\"https://www.publicdomainpictures.net/pictures/130000/velka/white-einstein.jpg\"></img>\n"
   ]
  },
  {
   "cell_type": "markdown",
   "metadata": {
    "toc": true
   },
   "source": [
    "<h1>Table of Contents<span class=\"tocSkip\"></span></h1>\n",
    "<div class=\"toc\"><ul class=\"toc-item\"><li><span><a href=\"#Introduzione\" data-toc-modified-id=\"Introduzione-1\"><span class=\"toc-item-num\">1&nbsp;&nbsp;</span>Introduzione</a></span><ul class=\"toc-item\"><li><span><a href=\"#Un-po'-di-storia\" data-toc-modified-id=\"Un-po'-di-storia-1.1\"><span class=\"toc-item-num\">1.1&nbsp;&nbsp;</span>Un po' di storia</a></span></li><li><span><a href=\"#La-reazione-di-Planck\" data-toc-modified-id=\"La-reazione-di-Planck-1.2\"><span class=\"toc-item-num\">1.2&nbsp;&nbsp;</span>La reazione di Planck</a></span></li><li><span><a href=\"#Einstein---1905-&quot;Annus-Mirabilis&quot;\" data-toc-modified-id=\"Einstein---1905-&quot;Annus-Mirabilis&quot;-1.3\"><span class=\"toc-item-num\">1.3&nbsp;&nbsp;</span>Einstein - 1905 \"Annus Mirabilis\"</a></span><ul class=\"toc-item\"><li><span><a href=\"#Annus-Mirabilis\" data-toc-modified-id=\"Annus-Mirabilis-1.3.1\"><span class=\"toc-item-num\">1.3.1&nbsp;&nbsp;</span>Annus Mirabilis</a></span><ul class=\"toc-item\"><li><span><a href=\"#Annus-Mirabilis-papers\" data-toc-modified-id=\"Annus-Mirabilis-papers-1.3.1.1\"><span class=\"toc-item-num\">1.3.1.1&nbsp;&nbsp;</span>Annus Mirabilis papers</a></span></li></ul></li></ul></li><li><span><a href=\"#Einstein-e-il-punto-di-vista-euristico\" data-toc-modified-id=\"Einstein-e-il-punto-di-vista-euristico-1.4\"><span class=\"toc-item-num\">1.4&nbsp;&nbsp;</span>Einstein e il punto di vista euristico</a></span></li></ul></li><li><span><a href=\"#Apparato-sperimentale-ed-osservazioni-sperimentali\" data-toc-modified-id=\"Apparato-sperimentale-ed-osservazioni-sperimentali-2\"><span class=\"toc-item-num\">2&nbsp;&nbsp;</span>Apparato sperimentale ed osservazioni sperimentali</a></span><ul class=\"toc-item\"><li><span><a href=\"#Apparato\" data-toc-modified-id=\"Apparato-2.1\"><span class=\"toc-item-num\">2.1&nbsp;&nbsp;</span>Apparato</a></span></li><li><span><a href=\"#Osservazioni-sperimentali\" data-toc-modified-id=\"Osservazioni-sperimentali-2.2\"><span class=\"toc-item-num\">2.2&nbsp;&nbsp;</span>Osservazioni sperimentali</a></span></li><li><span><a href=\"#La-teoria-classica\" data-toc-modified-id=\"La-teoria-classica-2.3\"><span class=\"toc-item-num\">2.3&nbsp;&nbsp;</span>La teoria classica</a></span></li></ul></li><li><span><a href=\"#Einstein\" data-toc-modified-id=\"Einstein-3\"><span class=\"toc-item-num\">3&nbsp;&nbsp;</span>Einstein</a></span><ul class=\"toc-item\"><li><span><a href=\"#Ipotesi:\" data-toc-modified-id=\"Ipotesi:-3.1\"><span class=\"toc-item-num\">3.1&nbsp;&nbsp;</span>Ipotesi:</a></span></li><li><span><a href=\"#Energia-dei-fotoni\" data-toc-modified-id=\"Energia-dei-fotoni-3.2\"><span class=\"toc-item-num\">3.2&nbsp;&nbsp;</span>Energia dei fotoni</a></span></li><li><span><a href=\"#Quantità-di-moto-dei-fotoni-(momentum)\" data-toc-modified-id=\"Quantità-di-moto-dei-fotoni-(momentum)-3.3\"><span class=\"toc-item-num\">3.3&nbsp;&nbsp;</span>Quantità di moto dei fotoni (momentum)</a></span></li></ul></li></ul></div>"
   ]
  },
  {
   "cell_type": "markdown",
   "metadata": {},
   "source": [
    "## Introduzione\n",
    "\n",
    "Giá verso la fine del secolo XIX si era scoperto che un fascio di luce monocromatica incidente su una lastra metallica provocava l’emsissione di elettroni (fotoelettroni). Possiamo schematizzare un metallo come un oggetto elettricamente neutro costituito da cariche positive ”pesanti” e cariche negative (elettroni) libere di muoversi dentro il metallo, ma sottoposte ad un potenziale che ne impedisce l’uscita in condizioni normali. Se il metallo viene riscaldato o sottoposto a radiazione elettromagetica gli elettroni possono acquistare un’ energia cinetica sufficientemente alta da permettre di superare il potenziale di richiamo del metallo e quindi di ”saltare” fuori.\n",
    "\n"
   ]
  },
  {
   "cell_type": "markdown",
   "metadata": {},
   "source": [
    "### Un po' di storia"
   ]
  },
  {
   "cell_type": "markdown",
   "metadata": {},
   "source": [
    "### La reazione di Planck\n",
    "\n",
    "\n",
    "\n",
    "Non è difficile immaginare lo sgomento della comunità scientifica nel leggere la relazione che Planck presentò, il 14 dicembre 1900 (data ritenuta da molti come quella della vera nascita della meccanica quantistica), in occasione di una riunione della Società di Fisica di Berlino.\n",
    "\n",
    "Per anni, tutti i più brillanti fisici teorici (e non) rimasero scettici nei confronti della teoria quantistica introdotta da Planck. Essi fallirono ripetutamente nel tentativo di falsificare\n",
    "quella che sembrava essere una mera assunzione formale per la risoluzione matematica del problema di corpo nero.\n",
    "\n",
    "Tra tutti, il più scettico era proprio Planck stesso, che cercò (invano) di trovare dei punti deboli nel suo approccio per il resto della sua esistenza, come evidenziato da una nota nella sua autobiografia:\n",
    "\n",
    "---\n",
    "\n",
    "*Ho provato per moltissimi anni a salvare la fisica dai livelli discontinui dell’energia.*\n",
    "\n",
    "---\n",
    "\n",
    "Fa davvero riflettere la scelta del termine **salvare la fisica**. Comprensibilmente, l’assimilazione di una teoria cosı̀ rivoluzionaria non è affatto facile. Nonostante la difficoltà di comprendere tutte le\n",
    "implicazioni che la negazione della continuità dell’energia avrebbe comportato, già alla fine del primo decennio del XX secolo, tutti concordavano sul fatto che l’ipotesi quantistica fosse necessaria per giungere all’espressione di Planck, che di fatto continuava a resistere a tutti i confronti con i risultati\n",
    "sperimentali."
   ]
  },
  {
   "cell_type": "markdown",
   "metadata": {},
   "source": [
    "### Einstein - 1905 \"Annus Mirabilis\"\n",
    "\n",
    "Soltanto una persona comprese il potenziale dei quanti di energia: Albert Einstein. Già nel 1905 (appena cinque anni dopo la scoperta di Planck), l’allora ventiseienne impiegato dell’Ufficio Brevetti di Berna impresse la svolta decisiva per l’affermazione dell’ipotesi quantistica. Egli, infatti, pubblicò un\n",
    "articolo, dal titolo:\n",
    "\n",
    "**Su di un punto di vista euristico, concernente la produzione e la trasformazione della luce**\n",
    "\n",
    "che gli valse l’assegnazione del Premio Nobel per la Fisica nel 1921, nel quale uno degli argomenti trattati (in realtà, solo uno tra i cinque di quell’articolo) . \n",
    "\n",
    "<img width=\"363\" alt=\"Boltzmann_factor\" src=\"https://upload.wikimedia.org/wikipedia/commons/thumb/5/56/Zur_Elektrodynamik_bewegter_K%C3%B6rper.pdf/page1-363px-Zur_Elektrodynamik_bewegter_K%C3%B6rper.pdf.jpg\"></img>\n",
    "\n",
    "#### Annus Mirabilis\n",
    "\n",
    "Sono noti col nome di Annus Mirabilis Papers (dal latino e dall'inglese: Articoli dell'anno meraviglioso) i quattro articoli pubblicati da Albert Einstein nel 1905 sulla rivista scientifica Annalen der Physik.\n",
    "\n",
    "Tali articoli affrontavano sotto una nuova ottica l'[effetto fotoelettrico](https://it.wikipedia.org/wiki/Effetto_fotoelettrico) e il [moto browniano](https://it.wikipedia.org/wiki/Moto_browniano), formulavano la [relatività ristretta](https://it.wikipedia.org/wiki/Relativit%C3%A0_ristretta) e stabilivano l'[equivalenza massa-energia](https://it.wikipedia.org/wiki/Equivalenza_massa-energia), rivoluzionando la fisica classica.\n",
    "\n",
    "La definizione di Annus Mirabilis venne data al 1905 proprio in seguito alla pubblicazione, a breve distanza l'uno dall'altro, di questi quattro brevi, ma rivoluzionari articoli fondativi della fisica moderna.\n",
    "Il 1905 è chiamato [annus mirabilis](https://it.wikipedia.org/wiki/Annus_Mirabilis_Papers)\n",
    "\n",
    "\n",
    "##### Annus Mirabilis papers\n",
    "\n",
    "|**Articolo originale**|**Titolo in Italiano**|**Argomento**|\n",
    "| :- | :-: | :- |\n",
    "| (DE) [Über einen die Erzeugung und Verwandlung des Lichtes betreffenden heuristischen Gesichtspunkt](http://www.physik.uni-augsburg.de/annalen/history/einstein-papers/1905_17_132-148.pdf) (PDF), in Annalen der Physik, 17, nº 132-148. | *Un punto di vista euristico sulla produzione e la trasformazione della luce* | [effetto fotoelettrico](https://it.wikipedia.org/wiki/Effetto_fotoelettrico)|\n",
    "|(DE) [Über die von der molekularkinetischen Theorie der Wärme geforderte Bewegung von in ruhenden Flüssigkeiten suspendierten Teilchen](http://www.physik.uni-augsburg.de/annalen/history/einstein-papers/1905_17_549-560.pdf) (PDF), in Annalen der Physik, 17, 549–560.|\t*Il moto di piccole particelle sospese in liquidi in quiete, secondo la teoria cinetico-molecolare del calore*|\tMoto browniano|\n",
    "|(DE) [Zur Elektrodynamik bewegter Körper](http://www.physik.uni-augsburg.de/annalen/history/einstein-papers/1905_17_891-921.pdf) (PDF), in Annalen der Physik, 17, 891–921. |\t*Sull'elettrodinamica dei corpi in movimento* |\tRelatività ristretta|\n",
    "|(DE) [Ist die Trägheit eines Körpers von seinem Energieinhalt abhängig?](http://www.physik.uni-augsburg.de/annalen/history/einstein-papers/1905_18_639-641.pdf) (PDF), in Annalen der Physik, 18, 639–641.|*L'inerzia di un corpo dipende dal contenuto di energia?*|$E=mc^2$|\n"
   ]
  },
  {
   "cell_type": "markdown",
   "metadata": {},
   "source": [
    "\n",
    "### Einstein e il punto di vista euristico\n",
    "\n",
    "Era la spiegazione teorica dell’effetto fotoelettrico (altro problema aperto, non giustificabile in chiave classica). Sulla base dell’ipotesi quantistica, Einstein propose una teoria perfettamente in grado di spiegare tutte le osservazioni sperimentali.\n",
    "\n",
    "Così scrive:\n",
    "\n",
    "---\n",
    "\n",
    "*La teoria ondulatoria della luce, che fa uso di funzioni spaziali continue, si è verificata ottima per quel che riguarda i fenomeni puramente ottici e sembra veramente insostituibile in questo campo. Tuttavia [...] è pensabile che la teoria della luce, fondata su funzioni spaziali continue, possa entrare in conflitto con l’esperienza, qualora venga applicata ai fenomeni di emissione e trasformazione della luce. Infatti mi sembra che le osservazioni compiutesi sulla radiazione di corpo nero, la fotoluminescenza, l’emissioni di raggi cato-\n",
    "dici tramite luce ultravioletta e altri gruppi di fenomeni relativi all’emissione ovvero la trasformazione di luce, risultino molto più comprensibili se vengono considerate in base all’ipotesi che l’energia sia distribuita nello spazio in modo discontinuo.*\n",
    "\n",
    "---\n"
   ]
  },
  {
   "cell_type": "code",
   "execution_count": 2,
   "metadata": {},
   "outputs": [
    {
     "data": {
      "text/html": [
       "\n",
       "        <iframe\n",
       "            width=\"1000\"\n",
       "            height=\"600\"\n",
       "            src=\"https://applets.kcvs.ca/photoelectricEffect/PhotoElectric.html\"\n",
       "            frameborder=\"0\"\n",
       "            allowfullscreen\n",
       "        ></iframe>\n",
       "        "
      ],
      "text/plain": [
       "<IPython.lib.display.IFrame at 0x7fdf6d0fe550>"
      ]
     },
     "execution_count": 2,
     "metadata": {},
     "output_type": "execute_result"
    }
   ],
   "source": [
    "IFrame(src='https://applets.kcvs.ca/photoelectricEffect/PhotoElectric.html', width=1000, height=600)"
   ]
  },
  {
   "cell_type": "markdown",
   "metadata": {},
   "source": [
    "## Apparato sperimentale ed osservazioni sperimentali\n",
    "\n"
   ]
  },
  {
   "cell_type": "markdown",
   "metadata": {},
   "source": [
    "### Apparato\n",
    "\n",
    "L’apparato per misurare l’effetto fotoelettrico si puó schematizzare come un involucro trasparente, in cui é praticato il vuoto, contenente un catodo su cui viene fatta incidere della radaiazione elettromagnetica (luce visibile o radizione di frequenza maggiore del visibile) ed un anodo che raccoglie i fotoelettroni emessi dal catodo. La corrente, misurata con un amperometro molto sensibile, é funzione del numero di fotoelettroni emessi nell’unitá di tempo dal catodo.\n",
    "\n",
    "|<a title=\"Stefan-Xp / CC BY-SA (http://creativecommons.org/licenses/by-sa/3.0/)\" href=\"https://commons.wikimedia.org/wiki/File:Versuch_zum_Fotoeffekt.png\"><img width=\"512\" alt=\"Versuch zum Fotoeffekt\" src=\"https://upload.wikimedia.org/wikipedia/commons/thumb/e/e0/Versuch_zum_Fotoeffekt.png/512px-Versuch_zum_Fotoeffekt.png\"></a>|\n",
    "|:---:|\n",
    "|Schema dell'apparato sperimentale per dimostrare l'effetto fotoelettrico. Il filtro passa la luce di alcune lunghezze d'onda dalla lampada a sinistra. La luce colpisce l'elettrodo curvo e gli elettroni vengono emessi. La tensione regolabile può essere aumentata fino a quando la corrente smette di fluire. Questa \"tensione di arresto\" è una funzione solo del materiale dell'elettrodo e della frequenza della luce incidente e non è influenzata dall'intensità della luce.|\n",
    "\n",
    "Il valore della differenza di potenziale tra anodo e catodo puó essere variato da un potenziometro ed é anche possibile cambiarne il segno mediante un’invertitore di polarità. Gli aspetti fenomenologici piú rilevanti di questo fenomeno, chiamato effetto fotoelettrico, si possono riassumere nei seguenti punti:"
   ]
  },
  {
   "cell_type": "markdown",
   "metadata": {},
   "source": [
    "### Osservazioni sperimentali"
   ]
  },
  {
   "cell_type": "markdown",
   "metadata": {},
   "source": [
    "\\begin{remark}[Frequenza soglia]\\label{rem:oss1}\n",
    "esiste una frequenza di soglia $\\nu_0$ , dipendente dal tipo di metallo, della radiazione incidente al disotto della quale non si verifica nessuno effetto;\\end{remark}\n",
    "\n",
    "\n",
    "\n",
    "\n"
   ]
  },
  {
   "cell_type": "markdown",
   "metadata": {},
   "source": [
    "\\begin{remark}[Potenziale d'arresto]\\label{rem:pot_arr}\n",
    "esiste un potenziale d’arresto (*stopping potential*) $V_0$ , indipendente dall’intensitá $I$ della radiazione incidente, al di sotto del quale nessun elettrone emesso raggiunge il catodo, quindi l’energia cinetica massima, $K_{max}$ , dei fotolettroni piú veloci soddisfa l’equazione\n",
    "\n",
    "$$\n",
    "K_{max} = e V_0\n",
    "$$\n",
    "\n",
    "ed è indipendente dall’intensitá $I$.  Il valore di $V_0$ cresce linearmente con la frequenza $ν$ della radiazione incidente;\n",
    "\\end{remark}\n",
    "\n"
   ]
  },
  {
   "cell_type": "markdown",
   "metadata": {},
   "source": [
    "\\begin{remark}[Emissione istantanea]\\label{rem:em_ist}\n",
    "l’emissione dei fotoelettroni é istantanea, per ogni valore di $I$ purché $\\nu > \\nu_0$.\n",
    "\\end{remark}\n",
    "\n"
   ]
  },
  {
   "cell_type": "markdown",
   "metadata": {},
   "source": [
    "\\begin{remark}[Corrente fotoelettronica]\\label{rem:corr_fot}\n",
    "la corrente fotolettronica $i$, cioé il numero di elettroni emessi nell’unitá di tempo, dipende dall’intensitá $I$ della radiazione incidente.\n",
    "$$\n",
    "i \\propto I\n",
    "$$\n",
    "\\end{remark}\n",
    "\n",
    "\n"
   ]
  },
  {
   "cell_type": "markdown",
   "metadata": {},
   "source": [
    "### La teoria classica\n",
    "\n",
    "La teoria classica della radiazione puó spiegare tale effetto, ma non le sue caratteristiche principali. . In effetti classicamente la radiazione é costituita da un campo elettrico $\\vec E(\\vec r, t)$, con $I \\propto E^2$. In presenza di un campo elettrico gli elettroni sono soggetti ad un aforza $\\vec F_e=e\\vec E$ quindi acquistano energia cinetica."
   ]
  },
  {
   "cell_type": "markdown",
   "metadata": {},
   "source": [
    "Quindi ci si aspetta:\n",
    "1. l’esistenza di una intensitá di soglia, cioé di una intensitá minima al di sotto della quale l’effetto non avviene, almeno in intervalli di tempo ragionevoli, in contrasto con l'osservazione \\ref{rem:oss1};"
   ]
  },
  {
   "cell_type": "markdown",
   "metadata": {},
   "source": [
    "2. che $K_{max}$ , e di conseguenza il potenziale d’arresto $V_0$ , dovrebbe dipendere da $I$, in contrasto con l'osservazione sperimentale \\ref{rem:pot_arr};"
   ]
  },
  {
   "cell_type": "markdown",
   "metadata": {},
   "source": [
    "3. che l’emissione dovrebbe avvenire quando un elettrone nel metallo ha assorbito abbastanza energia dalla radiazione incidente sul catodo da superare il potenziale, detto potenziale di estrazione, che, in condizioni normali, impedisce all’elettrone di uscire dal metallo; di conseguenza l’emissione dovrebbe avvenire dopo un intervallo di tempo dall’arrivo della radiazione incidente, intervallo tanto maggiore, quanto più debole è $I$, in contrasto con l'osservazione \\ref{rem:em_ist}.;"
   ]
  },
  {
   "cell_type": "markdown",
   "metadata": {},
   "source": [
    "4. che il numero di elettroni emessi nell’unitá di tempo dovrebbe aumentare al crescere dell’intensità I della radiazione incidente, in accordo con l'osservazione \\ref{rem:corr_fot} .\n",
    "\n",
    "**Quindi tre delle caratteristiche principali dell’effetto fotolettrico non sono spiegabili con la fisica classica.**"
   ]
  },
  {
   "cell_type": "markdown",
   "metadata": {},
   "source": [
    "## Einstein\n",
    "\n",
    "Nel 1905 Einstein propose una spiegazione dell’effetto fotoelettrico assumendo che la radiazione\n",
    "elettromagnetica fosse emessa per pacchetti, quanti, di energia, chiamati [fotoni](https://www.aps.org/publications/apsnews/201212/physicshistory.cfm) nel 1926 dal G.N.Lewis.\n"
   ]
  },
  {
   "cell_type": "markdown",
   "metadata": {},
   "source": [
    "### Ipotesi:\n",
    "\n",
    "\\begin{property}\\label{property:ein1}\n",
    "Nell’effetto fotoelettrico **un fotone é completamente assorbito da un elettrone**, che aumenta la sua energia di $$\\Delta E=h\\nu$$\\end{property}\n"
   ]
  },
  {
   "cell_type": "markdown",
   "metadata": {},
   "source": [
    "\n",
    "\n",
    "\\begin{property}\\label{property:ein2}\n",
    "L'elettrone è a riposo.\n",
    "\\end{property}\n",
    "\n",
    "Tale ipotesi è giustificata dall’osservazione sperimentale che l’effetto fotoelettrico avviene con luce nel visibile o nell’ultravioletto a cui corrisponde un’energia $E = h\\nu \\approx 1 − 10\\, eV$ , molto maggiore dell’energia cinetica termica che, a temperatura ordinaria, è dell’ordine di $\\approx 10−2 eV $.\n"
   ]
  },
  {
   "cell_type": "markdown",
   "metadata": {},
   "source": [
    "### Energia dei fotoni\n",
    "\n",
    "1. Quando, un elettrone che ha assorbito un fotone di frequenza $\\nu$, è emesso dal catodo con energia cinetica $K$ data da\n",
    "\n",
    "\\begin{equation}\\label{eq:KPE}\n",
    "K = h\\nu − W\n",
    "\\end{equation}\n",
    "\n",
    "dove $W$ è il lavoro, necessario per vincere l’attrazione degli atomi e le eventuali perdite di energia\n",
    "cinetica dovuta ad urti, che occorre fornire per rimuovere l’elettrone dal metallo. L’energia\n",
    "cinetica massima $K_{max}$ con cui un elettrone puó essere emessa quindi soddisfa un’equazione del tipo\n",
    "\n",
    "\\begin{equation}\\label{eq:KPEmax}\n",
    "K_{max} = h\\nu − W_0 \\ge 0\n",
    "\\end{equation}\n",
    "\n",
    "dove $W_0 $, **funzione lavoro** o **energia di estrazione**, é una caratteristica del metallo. Quindi esiste una frequenza di soglia.\n",
    "\n",
    "\\begin{equation}\\label{eq:fsolglia}\n",
    "h\\nu_0=W_0\n",
    "\\end{equation}\n",
    "\n",
    "tale che per $\\nu <\\nu_0$ l'equazione \\ref{eq:KPEmax} non ha soluzione.\n",
    "\n",
    "|<a title=\"Klaus-Dieter Keller / CC BY (https://creativecommons.org/licenses/by/3.0)\" href=\"https://commons.wikimedia.org/wiki/File:Photoelectric_effect_diagram.svg\"><img width=\"512\" alt=\"Photoelectric effect diagram\" src=\"https://upload.wikimedia.org/wikipedia/commons/thumb/d/db/Photoelectric_effect_diagram.svg/512px-Photoelectric_effect_diagram.svg.png\"></a>|\n",
    "|---|\n",
    "|Diagramma della massima energia cinetica in funzione della frequenza della luce sullo zinco|\n",
    "\n",
    "\n",
    "2. Si deduce immediatamente che esiste un valore §$V_0$ del potenziale ritardante\n",
    "\n",
    "\\begin{equation}\\label{eq:Pot0}\n",
    "V_0=\\frac{h\\nu}{e}-\\frac{W_0}{e}\n",
    "\\end{equation}\n",
    "\n",
    "in grado di impedire anche gli elettroni più veloci di raggiungere l'anodo.\n",
    "\n",
    "3.  Siccome un elettrone del catodo acquista, mediante l’assorbimento di un fotone, un pacchetto $h\\nu$\n",
    "di energia, l’emissione avviene immediatamente e non dipende dall’intensitá $I$ della radiazione.\n",
    "Al crescere di $I$, aumenta il numero di fotoni che incidono sul catodo, quindi aumenta la\n",
    "probabilitá per gli elettroni di assorbire un fotone e, di conseguenza, il numero di elettroni\n",
    "emessi."
   ]
  },
  {
   "cell_type": "code",
   "execution_count": 3,
   "metadata": {
    "scrolled": true
   },
   "outputs": [
    {
     "data": {
      "image/jpeg": "[encoded data removed]",
      "text/html": [
       "\n",
       "        <iframe\n",
       "            width=\"800\"\n",
       "            height=\"500\"\n",
       "            src=\"https://www.youtube.com/embed/Zqt3btS1FwE\"\n",
       "            frameborder=\"0\"\n",
       "            allowfullscreen\n",
       "        ></iframe>\n",
       "        "
      ],
      "text/plain": [
       "<IPython.lib.display.YouTubeVideo at 0x7fdf6d0fefd0>"
      ]
     },
     "execution_count": 3,
     "metadata": {},
     "output_type": "execute_result"
    }
   ],
   "source": [
    "\n",
    "YouTubeVideo('Zqt3btS1FwE', width=800, height=500)"
   ]
  },
  {
   "cell_type": "markdown",
   "metadata": {},
   "source": [
    "### Quantità di moto dei fotoni (momentum)"
   ]
  },
  {
   "cell_type": "code",
   "execution_count": 4,
   "metadata": {
    "scrolled": true
   },
   "outputs": [
    {
     "data": {
      "image/jpeg": "[encoded data removed]",
      "text/html": [
       "\n",
       "        <iframe\n",
       "            width=\"800\"\n",
       "            height=\"500\"\n",
       "            src=\"https://www.youtube.com/embed/Qwtz-QSDyOM\"\n",
       "            frameborder=\"0\"\n",
       "            allowfullscreen\n",
       "        ></iframe>\n",
       "        "
      ],
      "text/plain": [
       "<IPython.lib.display.YouTubeVideo at 0x7fdf6c8ac490>"
      ]
     },
     "execution_count": 4,
     "metadata": {},
     "output_type": "execute_result"
    }
   ],
   "source": [
    "YouTubeVideo('Qwtz-QSDyOM', width=800, height=500)"
   ]
  }
 ],
 "metadata": {
  "celltoolbar": "Slideshow",
  "kernelspec": {
   "display_name": "Python 3",
   "language": "python",
   "name": "python3"
  },
  "language_info": {
   "codemirror_mode": {
    "name": "ipython",
    "version": 3
   },
   "file_extension": ".py",
   "mimetype": "text/x-python",
   "name": "python",
   "nbconvert_exporter": "python",
   "pygments_lexer": "ipython3",
   "version": "3.7.6"
  },
  "latex_envs": {
   "LaTeX_envs_menu_present": true,
   "autoclose": false,
   "autocomplete": true,
   "bibliofile": "biblio.bib",
   "cite_by": "apalike",
   "current_citInitial": 1,
   "eqLabelWithNumbers": true,
   "eqNumInitial": 1,
   "hotkeys": {
    "equation": "Ctrl-E",
    "itemize": "Ctrl-I"
   },
   "labels_anchors": false,
   "latex_user_defs": false,
   "report_style_numbering": false,
   "user_envs_cfg": false
  },
  "toc": {
   "base_numbering": 1,
   "nav_menu": {},
   "number_sections": true,
   "sideBar": true,
   "skip_h1_title": true,
   "title_cell": "Table of Contents",
   "title_sidebar": "Contents",
   "toc_cell": true,
   "toc_position": {
    "height": "calc(100% - 180px)",
    "left": "10px",
    "top": "150px",
    "width": "165px"
   },
   "toc_section_display": true,
   "toc_window_display": true
  }
 },
 "nbformat": 4,
 "nbformat_minor": 4
}
