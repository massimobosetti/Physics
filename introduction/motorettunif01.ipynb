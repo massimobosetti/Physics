from vpython import *

scene.caption = """Right button drag or Ctrl-drag to rotate "camera" to view scene.
To zoom, drag with middle button or Alt/Option depressed, or use scroll wheel.
  On a two-button mouse, middle is left + right.
Touch screen: pinch/extend to zoom, swipe or two-finger rotate."""
f1=series(color=color.blue)
f2=series(color=color.red)

xA=0
xB=15
vA=5
vB=3.5
t=0
dt=0.01

while xA<=xB:
  #these next two lines are incomplete
  xA=xA+vA*dt
  xB=xB+vB*dt
  t=t+dt
  f1.plot(t,xA)
  f2.plot(t,xB)
  
print("la distanza a cui si incontrano è", xA, "m")
print(t)
